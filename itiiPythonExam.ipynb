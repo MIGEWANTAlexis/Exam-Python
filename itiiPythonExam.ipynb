{
 "cells": [
  {
   "cell_type": "markdown",
   "metadata": {},
   "source": [
    "# Devoir Python\n",
    "\n",
    "Vous devez rendre votre devoir sur GitHub.\n",
    "Vous avez le droit a tout vos documents et a internet\n",
    "\n",
    "1. votre depot doit etre privé\n",
    "2. vous devez inviter comme colaborateur votre chargé de TD/TP\n",
    "3. Seul le dernier commit avant la fin de la séance sera corrigé.\n"
   ]
  },
  {
   "cell_type": "markdown",
   "metadata": {},
   "source": [
    "Ex 1: Integrale de Romberg\n",
    "\n",
    "Ecrire une fonction integ_romberg(f, a, b, epsilon=1e-6) permettant de calculer l’intégrale numérique de la fonction f entre les bornes a et b avec une précision epsilon selon la méthode de Romberg (https://fr.wikipedia.org/wiki/M%C3%A9thode_de_Romberg).\n",
    "\n",
    "Il s’agit d’une méthode qui permet d’améliorer les méthodes usuelles de calcul numérique des intégrales, comme la méthode des Trapèzes.\n",
    "On montre qu’en combinant judicieusement les valeurs obtenues par la méthode des Trapèzes pour différentes subdivisons de l’intervalle d’intégration, on augmente l’ordre de convergence (sa vitesse de convergence). \n"
   ]
  },
  {
   "cell_type": "code",
   "execution_count": 60,
   "metadata": {},
   "outputs": [
    {
     "name": "stdout",
     "output_type": "stream",
     "text": [
      "[[2048.0], [1088.0, 768.0], [789.0, 689.3333333333334, 684.088888888889], [770.078125, 763.7708333333334, 768.7333333333333, 770.0768959435626], [1118.229736328125, 1234.2802734375, 1265.6475694444443, 1273.5350970017635, 1275.5094428882662], [6463.743518829346, 8245.581446329752, 8713.00152452257, 8831.213492063493, 8860.85144655393, 8868.266248121541], [6270797.822795689, 8358909.182554643, 8915620.089295197, 9056999.566878859, 9092482.580029394, 9101361.975658508, 9103582.364842735], [420614740367234.94, 560819651732714.0, 598207627957634.4, 607702986990047.2, 610086135923118.0, 610682505548563.4, 610831634363324.6, 610868918842678.9], [1.212339439272959e+32, 1.6164525856972787e+32, 1.7242160914104306e+32, 1.7515846007978975e+32, 1.758453560016713e+32, 1.760172478452702e+32, 1.7606023130017746e+32, 1.7607097781981977e+32, 1.760736644907257e+32], [6.445902092303216e+68, 8.594536123070955e+68, 9.167505197942352e+68, 9.313021153465245e+68, 9.349542805047462e+68, 9.358682143077811e+68, 9.360967535542544e+68, 9.361538918533177e+68, 9.361681766460522e+68, 9.36171747857859e+68], [1.1662257348234018e+144, 1.5549676464312025e+144, 1.6586321561932826e+144, 1.684959650736033e+144, 1.69156733564088e+144, 1.6932208716483493e+144, 1.693634356598691e+144, 1.693737734145941e+144, 1.6937635789271135e+144, 1.6937700401470543e+144, 1.69377165545358e+144]]\n"
     ]
    }
   ],
   "source": [
    "def f(x):\n",
    "    f1 = x**5\n",
    "    return f1\n",
    "\n",
    "def integ_romberg(f, a, b, epsilon=10**-6):\n",
    "    R = []\n",
    "    hn = (b - a)\n",
    "    \n",
    "    R.append([(hn/2.0)*(f(a)+f(b))])\n",
    "    for i in range(1, epsilon+1):\n",
    "        hn = hn/2\n",
    "        somme = 0\n",
    "        for j in range(1,2**i, 2):\n",
    "            somme += somme + f(a+j*hn)\n",
    "            \n",
    "        ligneI = [0.5*R[i-1][0] + somme*hn]\n",
    "        \n",
    "        for k in range(1, i+1):\n",
    "            rij = ligneI[k-1] + (ligneI[k-1] - R[i-1][k-1])/(4**k-1)\n",
    "            ligneI.append(rij)\n",
    "        \n",
    "        R.append(ligneI)\n",
    "    return R\n",
    "\n",
    "print(integ_romberg(f, 0, 4, 10))"
   ]
  },
  {
   "cell_type": "markdown",
   "metadata": {},
   "source": [
    "Ex 2: Équation d’état de l’eau à partir de la dynamique moléculaire\n",
    "\n",
    "Afin de modéliser les planètes de type Jupiter, Saturne, ou même des exo-planètes très massives (dites « super-Jupiters »), la connaissance de l’équation d’état des composants est nécessaire. Ces équations d’état doivent être valables jusqu’à plusieurs centaines de méga-bar ; autrement dit, celles-ci ne sont en aucun cas accessibles expérimentalement. On peut cependant obtenir une équation d’état numériquement à partir d’une dynamique moléculaire.\n",
    "\n",
    "Le principe est le suivant : on place dans une boite un certain nombre de particules régies par les équations microscopiques (Newton par exemple, ou même par des équations prenant en considération la mécanique quantique) puis on laisse celles-ci évoluer dans la boite ; on calcule à chaque pas de temps l’énergie interne à partir des intéractions électrostatiques et la pression à partir du tenseur des contraintes. On obtient en sortie l’évolution du système pour une densité fixée (par le choix de taille de la boite) et une température fixée (par un algorithme de thermostat que nous ne détaillerons pas ici).\n",
    "\n",
    "On se propose d’analyser quelques fichiers de sortie de tels calculs pour l’équation d’état de l’eau à très haute pression. Les fichiers de sortie sont disponibles ici; leur nom indique les conditions thermodynamiques correspondant au fichier, p.ex. 6000K_30gcc.out pour T=6000\n",
    "K et ρ=30 gcc. Le but est, pour chaque condition température-densité, d’extraire l’évolution de l’énergie et de la pression au cours du temps, puis d’en extraire la valeur moyenne ainsi que les fluctuations. Il arrive souvent que l’état initial choisi pour le système ne corresponde pas à son état d’équilibre, et qu’il faille donc « jeter » les quelques pas de temps en début de simulation qui correspondent à cette relaxation du système. Pour savoir combien de temps prend cette relaxation, il sera utile de tracer l’évolution au cours du temps de la pression et l’énergie pour quelques simulations. Une fois l’équation d’état P(ρ,T) et E(ρ,T) extraite, on pourra tracer le réseau d’isothermes."
   ]
  },
  {
   "cell_type": "code",
   "execution_count": 203,
   "metadata": {},
   "outputs": [
    {
     "ename": "AttributeError",
     "evalue": "'AxesSubplot' object has no attribute 'erreur'",
     "output_type": "error",
     "traceback": [
      "\u001b[1;31m---------------------------------------------------------------------------\u001b[0m",
      "\u001b[1;31mAttributeError\u001b[0m                            Traceback (most recent call last)",
      "\u001b[1;32m<ipython-input-203-1ff695384e94>\u001b[0m in \u001b[0;36m<module>\u001b[1;34m\u001b[0m\n\u001b[0;32m     41\u001b[0m \u001b[1;33m\u001b[0m\u001b[0m\n\u001b[0;32m     42\u001b[0m \u001b[1;32mfor\u001b[0m \u001b[0mt\u001b[0m \u001b[1;32min\u001b[0m \u001b[0mtemperatures\u001b[0m\u001b[1;33m:\u001b[0m\u001b[1;33m\u001b[0m\u001b[1;33m\u001b[0m\u001b[0m\n\u001b[1;32m---> 43\u001b[1;33m     \u001b[0maxeX\u001b[0m\u001b[1;33m.\u001b[0m\u001b[0merreur\u001b[0m\u001b[1;33m(\u001b[0m\u001b[0mx\u001b[0m\u001b[1;33m=\u001b[0m\u001b[0meos\u001b[0m\u001b[1;33m[\u001b[0m\u001b[1;34m'rho'\u001b[0m\u001b[1;33m]\u001b[0m\u001b[1;33m[\u001b[0m\u001b[0msel\u001b[0m\u001b[1;33m]\u001b[0m\u001b[1;33m,\u001b[0m \u001b[0my\u001b[0m\u001b[1;33m=\u001b[0m\u001b[0meos\u001b[0m\u001b[1;33m[\u001b[0m\u001b[1;34m'E'\u001b[0m\u001b[1;33m]\u001b[0m\u001b[1;33m[\u001b[0m\u001b[0msel\u001b[0m\u001b[1;33m]\u001b[0m \u001b[1;33m/\u001b[0m \u001b[0mk_B\u001b[0m \u001b[1;33m/\u001b[0m \u001b[0mt\u001b[0m\u001b[1;33m,\u001b[0m \u001b[0myerr\u001b[0m\u001b[1;33m=\u001b[0m\u001b[0meos\u001b[0m\u001b[1;33m[\u001b[0m\u001b[1;34m'dE'\u001b[0m\u001b[1;33m]\u001b[0m\u001b[1;33m[\u001b[0m\u001b[0msel\u001b[0m\u001b[1;33m]\u001b[0m \u001b[1;33m/\u001b[0m \u001b[0mk_B\u001b[0m \u001b[1;33m/\u001b[0m \u001b[0mt\u001b[0m\u001b[1;33m,\u001b[0m \u001b[0mfmt\u001b[0m\u001b[1;33m=\u001b[0m\u001b[0mcouleurs\u001b[0m\u001b[1;33m[\u001b[0m\u001b[0mt\u001b[0m\u001b[1;33m]\u001b[0m \u001b[1;33m+\u001b[0m \u001b[1;34m'-'\u001b[0m\u001b[1;33m)\u001b[0m\u001b[1;33m\u001b[0m\u001b[1;33m\u001b[0m\u001b[0m\n\u001b[0m\u001b[0;32m     44\u001b[0m     \u001b[0mtitle\u001b[0m\u001b[1;33m.\u001b[0m\u001b[0merreur\u001b[0m\u001b[1;33m(\u001b[0m\u001b[0mx\u001b[0m\u001b[1;33m=\u001b[0m\u001b[0meos\u001b[0m\u001b[1;33m[\u001b[0m\u001b[1;34m'rho'\u001b[0m\u001b[1;33m]\u001b[0m\u001b[1;33m[\u001b[0m\u001b[0msel\u001b[0m\u001b[1;33m]\u001b[0m\u001b[1;33m,\u001b[0m \u001b[0my\u001b[0m\u001b[1;33m=\u001b[0m\u001b[0meos\u001b[0m\u001b[1;33m[\u001b[0m\u001b[1;34m'P'\u001b[0m\u001b[1;33m]\u001b[0m\u001b[1;33m[\u001b[0m\u001b[0msel\u001b[0m\u001b[1;33m]\u001b[0m \u001b[1;33m/\u001b[0m \u001b[0meos\u001b[0m\u001b[1;33m[\u001b[0m\u001b[1;34m'rho'\u001b[0m\u001b[1;33m]\u001b[0m\u001b[1;33m[\u001b[0m\u001b[0msel\u001b[0m\u001b[1;33m]\u001b[0m \u001b[1;33m/\u001b[0m \u001b[0mnk_GPa\u001b[0m \u001b[1;33m/\u001b[0m \u001b[0mt\u001b[0m\u001b[1;33m,\u001b[0m \u001b[0myerr\u001b[0m\u001b[1;33m=\u001b[0m\u001b[0meos\u001b[0m\u001b[1;33m[\u001b[0m\u001b[1;34m'dP'\u001b[0m\u001b[1;33m]\u001b[0m\u001b[1;33m[\u001b[0m\u001b[0msel\u001b[0m\u001b[1;33m]\u001b[0m \u001b[1;33m/\u001b[0m \u001b[0meos\u001b[0m\u001b[1;33m[\u001b[0m\u001b[1;34m'rho'\u001b[0m\u001b[1;33m]\u001b[0m\u001b[1;33m[\u001b[0m\u001b[0msel\u001b[0m\u001b[1;33m]\u001b[0m \u001b[1;33m/\u001b[0m \u001b[0mnk_GPa\u001b[0m \u001b[1;33m/\u001b[0m \u001b[0mt\u001b[0m\u001b[1;33m,\u001b[0m \u001b[0mfmt\u001b[0m\u001b[1;33m=\u001b[0m\u001b[0mcouleurs\u001b[0m\u001b[1;33m[\u001b[0m\u001b[0mt\u001b[0m\u001b[1;33m]\u001b[0m \u001b[1;33m+\u001b[0m \u001b[1;34m'-'\u001b[0m\u001b[1;33m,\u001b[0m \u001b[0mlabel\u001b[0m\u001b[1;33m=\u001b[0m\u001b[1;34mf\"{t} K\"\u001b[0m\u001b[1;33m)\u001b[0m\u001b[1;33m\u001b[0m\u001b[1;33m\u001b[0m\u001b[0m\n\u001b[0;32m     45\u001b[0m \u001b[1;33m\u001b[0m\u001b[0m\n",
      "\u001b[1;31mAttributeError\u001b[0m: 'AxesSubplot' object has no attribute 'erreur'"
     ]
    },
    {
     "data": {
      "image/png": "[encoded data removed]",
      "text/plain": [
       "<Figure size 432x288 with 2 Axes>"
      ]
     },
     "metadata": {
      "needs_background": "light"
     },
     "output_type": "display_data"
    }
   ],
   "source": [
    "import matplotlib.pyplot as P\n",
    "\n",
    "\n",
    "class Simulation: \n",
    "    def __init__(self, temp, dens, path):\n",
    "\n",
    "        self.temp = float(temp)\n",
    "        self.dens = float(dens)\n",
    "        tmp = N.loadtxt(path, skiprows=1).T\n",
    "        self.pot = tmp[0]\n",
    "        self.kin = tmp[1]\n",
    "        self.tot = self.pot + self.kin\n",
    "        self.press = tmp[2]\n",
    "\n",
    "    def plot(self, skipSteps=0):\n",
    "        fig, (axen, axpress) = P.subplots(2, sharex=True)\n",
    "        axen.plot(list(range(skipSteps, len(self.tot))), self.tot[skipSteps:], 'rd--')\n",
    "        axpress.plot(list(range(skipSteps, len(self.press))), self.press[skipSteps:], 'rd--')\n",
    "        P.show()\n",
    "\n",
    "a0 = 0.52918      \n",
    "amu = 1.6605     \n",
    "k_B = 3.16681e-6  \n",
    "nk_GPa = a0 ** 3 * k_B * 2.942e4 / 6 / amu\n",
    "\n",
    "pas = 100\n",
    "temperatures = [6000, 20000, 50000]\n",
    "couleurs = {6000: 'b', 20000: 'o', 50000: 'k'}\n",
    "densite = [7, 15, 25, 30]\n",
    "\n",
    "## les files outputs\n",
    "for t, rho in [(t, rho) for t in temperatures for rho in densite]:\n",
    "    fichier = f\"outputs/{t}K_{rho:0>2d}gcc.out\"\n",
    "    s = Simulation(t, rho, fichier)\n",
    "\n",
    "\n",
    "figure, (axeX, title) = P.subplots(2, sharex=True)\n",
    "fig.suptitle(\"Etat de eau tres haute pression\", size='x-large')\n",
    "axeX.set_title(\"Energie\")\n",
    "title.set_title(\"Pression\")\n",
    "\n",
    "for t in temperatures:\n",
    "    axeX.errorbar(x=eos['rho'][sel], y=eos['E'][sel] / k_B / t, yerr=eos['dE'][sel] / k_B / t, fmt=couleurs[t] + '-')\n",
    "    title.errorbar(x=eos['rho'][sel], y=eos['P'][sel] / eos['rho'][sel] / nk_GPa / t, yerr=eos['dP'][sel] / eos['rho'][sel] / nk_GPa / t, fmt=couleurs[t] + '-', label=f\"{t} K\")\n",
    "\n",
    "P.show()\n",
    "\n",
    "s.plot()"
   ]
  },
  {
   "cell_type": "markdown",
   "metadata": {},
   "source": [
    "Ex 3: Le problème du voyageur de commerce\n",
    "\n",
    "Le problème du voyageur de commerce est un problème d’optimisation consistant à déterminer le plus court chemin reliant un ensemble de destinations. Il n’existe pas d’algorithme donnant la solution optimale en un temps raisonnable (problème NP-complet), mais l’on peut chercher à déterminer des solutions approchées. On va se placer ici dans le cas d’un livreur devant desservir une seule fois chacune desndestinations d’une ville américaine où les rues sont agencées en réseau carré. \n",
    "\n",
    "On utilise la « distance deManhattan »  entre deux points 𝐴(𝑥𝐴,𝑦𝐴) et 𝐵(𝑥𝐵,𝑦𝐵) : 𝑑(𝐴,𝐵) =|𝑥𝐵−𝑥𝐴|+|𝑦𝐵−𝑦𝐴|.\n",
    "\n",
    "En outre, on se place dans le cas où les coordonnées des destinations sont entières, comprises entre 0 (inclus) et TAILLE = 50 (exclus). Deux destinations peuvent éventuellement avoir les mêmes coordonnées. Les instructions suivantes doivent permettre de définir les classes nécessaires (Ville et Trajet) et de développer un algorithme approché (heuristiques) : l’algorithme du plus proche voisin. \n",
    "\n",
    "Seules la librairie standard et la librairie numpy sont utilisables si nécessaire. Implementer les classes et methodes suivante:\n",
    "\n",
    "\n",
    "Classe Ville:\n",
    "* __init__(): initialisation d’une ville sans destination.\n",
    "* aleatoire(n): création de n destinations aléatoires.\n",
    "* nb_trajet(): retourne le nombre total (entier) de trajets :(𝑛−1)!/2(utilisermath.factorial()).\n",
    "* distance(i, j): retourne la distance (Manhattan) entre les deux destinations de numéro i et j\n",
    "\n",
    "\n",
    "Classe Trajet:\n",
    "* __init__(ville, etapes=None): initialisation sur une ville. Si la liste etapes n’est pas spécifiée, le trajet par défaut est celui suivant les destinations de ville.\n",
    "* longueur(): retourne la longueur totale du trajetbouclé(i.e. revenant à son point de départ).\n",
    "\n",
    "\n",
    "Plus proche voisin:\n",
    "* Ville.plus_proche(i, exclus=[]): retourne la destination la plus proche de la destinationi(au sens de Ville.distance()), hors les destinations de la liste exclus\n",
    "* Ville.trajet_voisins(depart=0): retourne un Trajet déterminé selon l’heuristique des plus proches voisins (i.e. l’étape suivante est la destination la plus proche hors les destinations déjà visitées) en partant de l’étape initiale depart\n",
    "\n",
    "Optimisation:\n",
    "* Proposer un algorithme qui propose une meilleur alternative au \"plus proche voisin\".\n",
    "\n",
    "Interface:\n",
    "* Ville.figure(trajet=None): Afficher le plande la ville et le trajet obtenue (utiliser matplotlib.step()pour des trajets de type « Manhattan »)"
   ]
  },
  {
   "cell_type": "code",
   "execution_count": 154,
   "metadata": {},
   "outputs": [
    {
     "name": "stdout",
     "output_type": "stream",
     "text": [
      "La ville est composé de : 10 destinations : (et a 181440 trajets)\n",
      "181440\n",
      "17\n",
      "8\n",
      "4\n",
      "Ville avec étapes : 10 (destinations) et trajet L=182: [3 4 1 7 8 5 9 2 6 0]\n",
      "---------------------------------------- Trajet ---------------------------------------------\n",
      "Ville avec étapes : 10 (destinations) et trajet L=338: [0 1 2 3 4 5 6 7 8 9]\n",
      "338\n"
     ]
    },
    {
     "data": {
      "image/png": "[encoded data removed]",
      "text/plain": [
       "<Figure size 432x432 with 1 Axes>"
      ]
     },
     "metadata": {
      "needs_background": "light"
     },
     "output_type": "display_data"
    }
   ],
   "source": [
    "import math\n",
    "import matplotlib.pyplot as P\n",
    "import numpy as np\n",
    "\n",
    "import matplotlib.pyplot as P\n",
    "\n",
    "np.random.seed(123)\n",
    "\n",
    "TAILLE = 50\n",
    "\n",
    "class Ville(object):\n",
    "\n",
    "    def __init__(self):\n",
    "        self.destinations = np.array([])\n",
    "\n",
    "    def __str__(self):\n",
    "        return f\"La ville est composé de : {len(self.destinations)} destinations : (et a { self.nb_trajets()} trajets)\"\n",
    "\n",
    "    def aleatoire(self, n):\n",
    "        self.destinations = np.random.randint(TAILLE, size=(n, 2)) # Je ne suis pas sur de cette ligne\n",
    "\n",
    "    def nb_trajets(self):\n",
    "        nombreDestination = len(self.destinations)\n",
    "        if nombreDestination > 2:\n",
    "            return int(math.factorial(nombreDestination - 1) / 2)\n",
    "        elif nombreDestination > 0:\n",
    "            return 1\n",
    "        else:\n",
    "            return 0\n",
    "\n",
    "    def distance(self, i, j):\n",
    "        return np.abs(self.destinations[i] - self.destinations[j]).sum()\n",
    "    \n",
    "    def plus_proche(self, i, exclus=[]):\n",
    "        voisins = [j for j in range(len(self.destinations))\n",
    "                    if j != i and j not in exclus]\n",
    "        distances = [self.distance(i, j) for j in voisins]\n",
    "\n",
    "        return voisins[np.argmin(distances)]\n",
    "    \n",
    "    def trajet_voisins(self, depart=0):\n",
    "\n",
    "        nombreDestination = len(self.destinations)\n",
    "        if depart is None:\n",
    "            trajets = [ self.trajet_voisins(depart=i) for i in range(nombreDestination) ]\n",
    "            longueurs = [ t.longueur() for t in trajets ]\n",
    "\n",
    "            return trajets[np.argmin(longueurs)]\n",
    "        else:\n",
    "            etapes = [depart]\n",
    "            while len(etapes) < nombreDestination:\n",
    "                i = etapes[-1]\n",
    "                j = self.plus_proche(i, exclus=etapes[:-1])\n",
    "                etapes.append(j)\n",
    "\n",
    "            return Trajet(self, etapes)\n",
    "        \n",
    "    def figure(self, trajet=None):\n",
    "        fig = P.figure(figsize=(6,6))\n",
    "        ax = fig.add_subplot(1,1,1, aspect='equal', xlim=(0, TAILLE), ylim=(0, TAILLE), title=f\"{len(self.destinations)} destinations\")\n",
    "        minor_loc = P.matplotlib.ticker.MultipleLocator(1)\n",
    "        ax.xaxis.set_minor_locator(minor_loc)\n",
    "        ax.yaxis.set_minor_locator(minor_loc)\n",
    "        ax.autoscale(False)\n",
    "\n",
    "        if trajet is None:\n",
    "            ax.plot(self.destinations[:, 0], self.destinations[:, 1], 'ko', zorder=10)\n",
    "            for i,(x,y) in enumerate(self.destinations):\n",
    "                ax.annotate(str(i), xy=(x, y), xytext=(x+0.5, y+0.5), zorder=10)\n",
    "        else:\n",
    "            boucle = N.concatenate((trajet.etapes, [trajet.etapes[0]]))\n",
    "            ax.step(self.destinations[boucle, 0] + offset, self.destinations[boucle, 1] + offset, label=f\"L={trajet.longueur()}\")\n",
    "\n",
    "        return ax\n",
    "    \n",
    "    ## Optimisation: pas réussis\n",
    "    \n",
    "\n",
    "class Trajet(object):\n",
    "\n",
    "    def __init__(self, ville, etapes=None):\n",
    "        assert isinstance(ville, Ville)\n",
    "        self.ville = ville\n",
    "        if etapes is None:\n",
    "            self.etapes = np.arange(len(self.ville.destinations))\n",
    "        else:\n",
    "            self.etapes = np.array(etapes)\n",
    "\n",
    "    def __str__(self):\n",
    "        return f\"Ville avec étapes : {len(self.etapes)} (destinations) et trajet L={self.longueur()}: {self.etapes}\"\n",
    "\n",
    "    def longueur(self):\n",
    "        lon = sum(self.ville.distance(self.etapes[i], self.etapes[i+1])\n",
    "        for i in range(len(self.etapes)-1))\n",
    "        lon += self.ville.distance(self.etapes[-1], self.etapes[0])\n",
    "\n",
    "        return lon\n",
    "    \n",
    "# Test Ville\n",
    "v1 = Ville()\n",
    "v1.aleatoire(10)\n",
    "print(v1)\n",
    "print(v1.nb_trajets())\n",
    "print(v1.distance(3,7))\n",
    "print(v1.plus_proche(7))\n",
    "print(v1.plus_proche(3))\n",
    "print(v1.trajet_voisins(3))\n",
    "test = v1.figure()\n",
    "print(\"---------------------------------------- Trajet ---------------------------------------------\")\n",
    "\n",
    "# Test Trajet\n",
    "t1 = Trajet(v1)\n",
    "print(t1)\n",
    "print(t1.longueur())"
   ]
  },
  {
   "cell_type": "code",
   "execution_count": null,
   "metadata": {},
   "outputs": [],
   "source": []
  },
  {
   "cell_type": "code",
   "execution_count": null,
   "metadata": {},
   "outputs": [],
   "source": []
  }
 ],
 "metadata": {
  "kernelspec": {
   "display_name": "Python 3",
   "language": "python",
   "name": "python3"
  },
  "language_info": {
   "codemirror_mode": {
    "name": "ipython",
    "version": 3
   },
   "file_extension": ".py",
   "mimetype": "text/x-python",
   "name": "python",
   "nbconvert_exporter": "python",
   "pygments_lexer": "ipython3",
   "version": "3.7.6"
  }
 },
 "nbformat": 4,
 "nbformat_minor": 4
}
